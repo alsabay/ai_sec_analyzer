{
 "cells": [
  {
   "cell_type": "markdown",
   "metadata": {},
   "source": [
    "## Fundamental Analysis Assistant using AI\n",
    "fetches 10K report from Edgar database and performs Piotroski F-Score analysis"
   ]
  },
  {
   "cell_type": "code",
   "execution_count": 2,
   "metadata": {},
   "outputs": [
    {
     "data": {
      "text/plain": [
       "'DGSp3mb2sERmp2D'"
      ]
     },
     "execution_count": 2,
     "metadata": {},
     "output_type": "execute_result"
    }
   ],
   "source": [
    "# initialize environment variables\n",
    "import os\n",
    "import numpy as np\n",
    "ZILLIZ_QNA_URI = os.getenv('ZILLIZ_QNA_URI')\n",
    "ZILLIZ_USER = os.getenv('ZILLIZ_USER')\n",
    "ZILLIZ_PWD = os.getenv('ZILLIZ_PWD')"
   ]
  },
  {
   "cell_type": "code",
   "execution_count": 3,
   "metadata": {},
   "outputs": [
    {
     "data": {
      "text/plain": [
       "6"
      ]
     },
     "execution_count": 3,
     "metadata": {},
     "output_type": "execute_result"
    }
   ],
   "source": [
    "import warnings\n",
    "warnings.filterwarnings('ignore')\n",
    "\n",
    "from sec_edgar_downloader import Downloader\n",
    "\n",
    "# Initialize a downloader instance. If no argument is passed\n",
    "# to the constructor, the package will download filings to\n",
    "# the current working directory.\n",
    "dl = Downloader(\"./data\")\n",
    "\n",
    "# Get all 10-K filings for Apple (ticker: NVDA)\n",
    "dl.get(\"10-K\", \"NVDA\", after='2017-01-01' ,before='2023-01-01')"
   ]
  },
  {
   "cell_type": "code",
   "execution_count": 7,
   "metadata": {},
   "outputs": [
    {
     "name": "stderr",
     "output_type": "stream",
     "text": [
      "100%|██████████| 6/6 [05:38<00:00, 56.46s/it]\n"
     ]
    }
   ],
   "source": [
    "# load downloaded data \n",
    "from langchain.document_loaders import DirectoryLoader\n",
    "\n",
    "loader = DirectoryLoader(\n",
    "    './data/sec-edgar-filings/NVDA/10-K/', # my local directory\n",
    "    glob='**/*.txt',     # load txt files only\n",
    "    show_progress=True\n",
    ")\n",
    "docs = loader.load();"
   ]
  },
  {
   "cell_type": "code",
   "execution_count": 5,
   "metadata": {},
   "outputs": [],
   "source": [
    "from pymilvus import MilvusClient\n",
    "from pymilvus import utility, connections\n",
    "\n",
    "COLLECTION_NAME = 'fundamental'  # Collection name\n",
    "connections.connect(uri=ZILLIZ_QNA_URI, user=ZILLIZ_USER, \n",
    "                    password=ZILLIZ_PWD, secure=True)\n",
    "\n",
    "# Remove the collection if it already exists\n",
    "if utility.has_collection(COLLECTION_NAME):\n",
    "    utility.drop_collection(COLLECTION_NAME)\n"
   ]
  },
  {
   "cell_type": "code",
   "execution_count": null,
   "metadata": {},
   "outputs": [],
   "source": [
    "from langchain.vectorstores.zilliz import Zilliz\n",
    "from langchain.embeddings import HuggingFaceEmbeddings\n",
    "import sentence_transformers\n",
    "from langchain.text_splitter import CharacterTextSplitter\n",
    "\n",
    "splitter = CharacterTextSplitter(\n",
    "    chunk_size=1000, \n",
    "    chunk_overlap=0\n",
    ")\n",
    "\n",
    "docs_split = splitter.split_documents(docs)\n",
    "\n",
    "embedding = HuggingFaceEmbeddings()\n",
    "index_params = {\n",
    "    'index_type': 'AUTOINDEX',\n",
    "    'metric_type': 'L2'\n",
    "}\n",
    "\n",
    "doc_db = Zilliz.from_documents(docs_split, \n",
    "                               embedding,\n",
    "                               collection_name = COLLECTION_NAME,\n",
    "                               connection_args = {'uri': ZILLIZ_QNA_URI,\n",
    "                                                  'user': ZILLIZ_USER,\n",
    "                                                  'password': ZILLIZ_PWD\n",
    "                                                  },\n",
    "                               index_params = index_params)\n"
   ]
  },
  {
   "cell_type": "code",
   "execution_count": null,
   "metadata": {},
   "outputs": [],
   "source": []
  }
 ],
 "metadata": {
  "kernelspec": {
   "display_name": "brainer",
   "language": "python",
   "name": "python3"
  },
  "language_info": {
   "codemirror_mode": {
    "name": "ipython",
    "version": 3
   },
   "file_extension": ".py",
   "mimetype": "text/x-python",
   "name": "python",
   "nbconvert_exporter": "python",
   "pygments_lexer": "ipython3",
   "version": "3.10.12"
  },
  "orig_nbformat": 4
 },
 "nbformat": 4,
 "nbformat_minor": 2
}
